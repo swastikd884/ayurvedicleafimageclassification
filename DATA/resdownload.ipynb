{
  "nbformat": 4,
  "nbformat_minor": 0,
  "metadata": {
    "colab": {
      "provenance": []
    },
    "kernelspec": {
      "name": "python3",
      "display_name": "Python 3"
    },
    "language_info": {
      "name": "python"
    }
  },
  "cells": [
    {
      "cell_type": "markdown",
      "source": [
        "# How to download images in bulk?\n",
        "This code helps us to download more number of images simultaneously by using pythons bing image downloader."
      ],
      "metadata": {
        "id": "JZyM5VjG2pH6"
      }
    },
    {
      "cell_type": "code",
      "execution_count": null,
      "metadata": {
        "colab": {
          "base_uri": "https://localhost:8080/"
        },
        "id": "Hd6nwdc_HaM8",
        "outputId": "c3ac9b9d-1134-47e3-f503-734b41a1710d"
      },
      "outputs": [
        {
          "output_type": "stream",
          "name": "stdout",
          "text": [
            "Collecting bing-image-downloader\n",
            "  Downloading bing_image_downloader-1.1.2-py3-none-any.whl (5.9 kB)\n",
            "Installing collected packages: bing-image-downloader\n",
            "Successfully installed bing-image-downloader-1.1.2\n"
          ]
        }
      ],
      "source": [
        "!pip install bing-image-downloader"
      ]
    },
    {
      "cell_type": "code",
      "source": [
        "!mkdir im"
      ],
      "metadata": {
        "id": "OhFii3tJH1OB"
      },
      "execution_count": null,
      "outputs": []
    },
    {
      "cell_type": "code",
      "source": [
        "from bing_image_downloader import downloader\n",
        "downloader.download(\"ayurvedic leaf\",limit =10,output_dir='im')"
      ],
      "metadata": {
        "colab": {
          "base_uri": "https://localhost:8080/"
        },
        "id": "1ET82hNaICZx",
        "outputId": "166ce7ea-1396-4965-fbf2-50bc6055b5c5"
      },
      "execution_count": null,
      "outputs": [
        {
          "output_type": "stream",
          "name": "stdout",
          "text": [
            "[%] Downloading Images to /content/im/ayurvedic leaf\n",
            "\n",
            "\n",
            "[!!]Indexing page: 1\n",
            "\n",
            "[%] Indexed 10 Images on Page 1.\n",
            "\n",
            "===============================================\n",
            "\n",
            "[%] Downloading Image #1 from https://keralaayurvedaranchi.com/img/about-us/1.jpg\n",
            "[%] File Downloaded !\n",
            "\n",
            "[%] Downloading Image #2 from https://i.pinimg.com/originals/0f/5a/f1/0f5af13c413e245ed5510829227544f5.jpg\n",
            "[%] File Downloaded !\n",
            "\n",
            "[%] Downloading Image #3 from https://www.pngkit.com/png/detail/366-3666786_anuja-ayurveda-dhule-leaf-logo-ayurveda-leaf-clipart.png\n",
            "[%] File Downloaded !\n",
            "\n",
            "[%] Downloading Image #4 from http://3.imimg.com/data3/FH/YU/MY-3877526/adhatoda-vasica-leave-500x500.jpg\n",
            "[%] File Downloaded !\n",
            "\n",
            "[%] Downloading Image #5 from https://www.ayurindus.com/wp-content/uploads/2021/02/Ayurvedic-Herbs.jpg\n",
            "[%] File Downloaded !\n",
            "\n",
            "[%] Downloading Image #6 from https://c8.alamy.com/comp/X1PETA/ayurvedic-medicinal-chirata-leaves-X1PETA.jpg\n",
            "[%] File Downloaded !\n",
            "\n",
            "[%] Downloading Image #7 from https://c8.alamy.com/comp/DBJCMF/choriyanam-nettles-or-climbing-nettle-ayurvedic-medicinal-plant-leaf-DBJCMF.jpg\n",
            "[%] File Downloaded !\n",
            "\n",
            "[%] Downloading Image #8 from https://dwarkadhishholisticcentre.org/wp-content/uploads/2020/05/ayurveda-154391_1280.png\n",
            "[%] File Downloaded !\n",
            "\n",
            "[%] Downloading Image #9 from https://www.ayurvedum.com/wp-content/uploads/2018/10/Herbal-Leaves-_-Ayurvedum-1-1024x683.jpg\n",
            "[%] File Downloaded !\n",
            "\n",
            "[%] Downloading Image #10 from https://thumbs.dreamstime.com/z/fresh-ayurvedic-herb-giloe-leaves-stem-167802184.jpg\n",
            "[%] File Downloaded !\n",
            "\n",
            "\n",
            "\n",
            "[%] Done. Downloaded 10 images.\n"
          ]
        }
      ]
    },
    {
      "cell_type": "code",
      "source": [
        "from google.colab import files\n",
        "files.download(\"/content/im/ayurvedic leaf\")"
      ],
      "metadata": {
        "id": "pis6XMw4Qm4x"
      },
      "execution_count": null,
      "outputs": []
    }
  ]
}