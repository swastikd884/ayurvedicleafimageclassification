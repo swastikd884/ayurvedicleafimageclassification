{
  "nbformat": 4,
  "nbformat_minor": 0,
  "metadata": {
    "colab": {
      "provenance": []
    },
    "kernelspec": {
      "name": "python3",
      "display_name": "Python 3"
    },
    "language_info": {
      "name": "python"
    }
  },
  "cells": [
    {
      "cell_type": "markdown",
      "source": [
        "# How to download images in bulk?\n",
        "This code helps us to download more number of images simultaneously by using pythons bing image downloader."
      ],
      "metadata": {
        "id": "JZyM5VjG2pH6"
      }
    },
    {
      "cell_type": "code",
      "execution_count": 1,
      "metadata": {
        "colab": {
          "base_uri": "https://localhost:8080/"
        },
        "id": "Hd6nwdc_HaM8",
        "outputId": "bf2e6888-47df-433a-b9a6-1a3ce733d1cf"
      },
      "outputs": [
        {
          "output_type": "stream",
          "name": "stdout",
          "text": [
            "Collecting bing-image-downloader\n",
            "  Downloading bing_image_downloader-1.1.2-py3-none-any.whl (5.9 kB)\n",
            "Installing collected packages: bing-image-downloader\n",
            "Successfully installed bing-image-downloader-1.1.2\n"
          ]
        }
      ],
      "source": [
        "!pip install bing-image-downloader"
      ]
    },
    {
      "cell_type": "code",
      "source": [
        "!mkdir im"
      ],
      "metadata": {
        "id": "OhFii3tJH1OB"
      },
      "execution_count": 2,
      "outputs": []
    },
    {
      "cell_type": "code",
      "source": [
        "from bing_image_downloader import downloader\n",
        "downloader.download(\"ayurvedic leaf\",limit =10,output_dir='im')"
      ],
      "metadata": {
        "colab": {
          "base_uri": "https://localhost:8080/"
        },
        "id": "1ET82hNaICZx",
        "outputId": "f5a8ce5d-7a66-4986-fb8a-641561b3554d"
      },
      "execution_count": 3,
      "outputs": [
        {
          "output_type": "stream",
          "name": "stdout",
          "text": [
            "[%] Downloading Images to /content/im/ayurvedic leaf\n",
            "\n",
            "\n",
            "[!!]Indexing page: 1\n",
            "\n",
            "[%] Indexed 10 Images on Page 1.\n",
            "\n",
            "===============================================\n",
            "\n",
            "[%] Downloading Image #1 from http://2.bp.blogspot.com/-toDLiHJ7-nE/T70h5-huYlI/AAAAAAAAANs/Rhwt8rmz_6E/s1600/GreenPlant.jpg\n",
            "[%] File Downloaded !\n",
            "\n",
            "[%] Downloading Image #2 from https://keralaayurvedaranchi.com/img/about-us/1.jpg\n",
            "[%] File Downloaded !\n",
            "\n",
            "[%] Downloading Image #3 from https://c8.alamy.com/comp/2JNFHDP/tulsi-is-ayurvedic-leaf-people-in-rural-areas-use-tulsi-plant-juice-for-colds-and-coughs-2JNFHDP.jpg\n",
            "[%] File Downloaded !\n",
            "\n",
            "[%] Downloading Image #4 from https://i.pinimg.com/originals/0f/5a/f1/0f5af13c413e245ed5510829227544f5.jpg\n",
            "[%] File Downloaded !\n",
            "\n",
            "[%] Downloading Image #5 from https://www.pngkit.com/png/detail/366-3666786_anuja-ayurveda-dhule-leaf-logo-ayurveda-leaf-clipart.png\n",
            "[!] Issue getting: https://www.pngkit.com/png/detail/366-3666786_anuja-ayurveda-dhule-leaf-logo-ayurveda-leaf-clipart.png\n",
            "[!] Error:: <urlopen error [Errno 111] Connection refused>\n",
            "[%] Downloading Image #5 from https://www.ayurindus.com/wp-content/uploads/2021/02/Ayurvedic-Herbs.jpg\n",
            "[%] File Downloaded !\n",
            "\n",
            "[%] Downloading Image #6 from https://c8.alamy.com/comp/X1PETA/ayurvedic-medicinal-chirata-leaves-X1PETA.jpg\n",
            "[%] File Downloaded !\n",
            "\n",
            "[%] Downloading Image #7 from https://c8.alamy.com/comp/DBJCMF/choriyanam-nettles-or-climbing-nettle-ayurvedic-medicinal-plant-leaf-DBJCMF.jpg\n",
            "[%] File Downloaded !\n",
            "\n",
            "[%] Downloading Image #8 from https://www.ayurvedum.com/wp-content/uploads/2018/10/Herbal-Leaves-_-Ayurvedum-1-1024x683.jpg\n",
            "[%] File Downloaded !\n",
            "\n",
            "[%] Downloading Image #9 from https://dwarkadhishholisticcentre.org/wp-content/uploads/2020/05/ayurveda-154391_1280.png\n",
            "[%] File Downloaded !\n",
            "\n",
            "\n",
            "\n",
            "[!!]Indexing page: 2\n",
            "\n",
            "[%] No more images are available\n",
            "\n",
            "\n",
            "[%] Done. Downloaded 9 images.\n"
          ]
        }
      ]
    },
    {
      "cell_type": "code",
      "source": [
        "from google.colab import drive\n",
        "drive.mount('/content/drive')"
      ],
      "metadata": {
        "colab": {
          "base_uri": "https://localhost:8080/"
        },
        "id": "07dgatjcuBDO",
        "outputId": "2054e16d-e732-4df1-bb1c-f4d0955d24a1"
      },
      "execution_count": 5,
      "outputs": [
        {
          "output_type": "stream",
          "name": "stdout",
          "text": [
            "Mounted at /content/drive\n"
          ]
        }
      ]
    },
    {
      "cell_type": "code",
      "source": [
        "%cd /content/im"
      ],
      "metadata": {
        "colab": {
          "base_uri": "https://localhost:8080/"
        },
        "id": "t5tpPL40uSro",
        "outputId": "4b5ce386-65dd-44d0-da63-7845aa3ecee9"
      },
      "execution_count": 6,
      "outputs": [
        {
          "output_type": "stream",
          "name": "stdout",
          "text": [
            "/content/im\n"
          ]
        }
      ]
    },
    {
      "cell_type": "code",
      "source": [
        "!zip -r models.zip /content/im"
      ],
      "metadata": {
        "colab": {
          "base_uri": "https://localhost:8080/"
        },
        "id": "IxdSi0ryuaco",
        "outputId": "46ed6a8a-f0ec-49e7-93f4-dc7c2556babd"
      },
      "execution_count": 7,
      "outputs": [
        {
          "output_type": "stream",
          "name": "stdout",
          "text": [
            "  adding: content/im/ (stored 0%)\n",
            "  adding: content/im/ayurvedic leaf/ (stored 0%)\n",
            "  adding: content/im/ayurvedic leaf/Image_6.jpg (deflated 12%)\n",
            "  adding: content/im/ayurvedic leaf/Image_9.png (deflated 0%)\n",
            "  adding: content/im/ayurvedic leaf/Image_8.jpg (deflated 1%)\n",
            "  adding: content/im/ayurvedic leaf/Image_1.jpg (deflated 0%)\n",
            "  adding: content/im/ayurvedic leaf/Image_2.jpg (deflated 9%)\n",
            "  adding: content/im/ayurvedic leaf/Image_4.jpg (deflated 1%)\n",
            "  adding: content/im/ayurvedic leaf/Image_5.jpg (deflated 0%)\n",
            "  adding: content/im/ayurvedic leaf/Image_3.jpg (deflated 1%)\n",
            "  adding: content/im/ayurvedic leaf/Image_7.jpg (deflated 2%)\n"
          ]
        }
      ]
    },
    {
      "cell_type": "code",
      "source": [
        "from google.colab import files\n",
        "files.download('models.zip')"
      ],
      "metadata": {
        "colab": {
          "base_uri": "https://localhost:8080/",
          "height": 17
        },
        "id": "LprIW11Pujey",
        "outputId": "469292f5-e7c9-4a9f-b71b-bbbd73c6ba8a"
      },
      "execution_count": 8,
      "outputs": [
        {
          "output_type": "display_data",
          "data": {
            "text/plain": [
              "<IPython.core.display.Javascript object>"
            ],
            "application/javascript": [
              "\n",
              "    async function download(id, filename, size) {\n",
              "      if (!google.colab.kernel.accessAllowed) {\n",
              "        return;\n",
              "      }\n",
              "      const div = document.createElement('div');\n",
              "      const label = document.createElement('label');\n",
              "      label.textContent = `Downloading \"${filename}\": `;\n",
              "      div.appendChild(label);\n",
              "      const progress = document.createElement('progress');\n",
              "      progress.max = size;\n",
              "      div.appendChild(progress);\n",
              "      document.body.appendChild(div);\n",
              "\n",
              "      const buffers = [];\n",
              "      let downloaded = 0;\n",
              "\n",
              "      const channel = await google.colab.kernel.comms.open(id);\n",
              "      // Send a message to notify the kernel that we're ready.\n",
              "      channel.send({})\n",
              "\n",
              "      for await (const message of channel.messages) {\n",
              "        // Send a message to notify the kernel that we're ready.\n",
              "        channel.send({})\n",
              "        if (message.buffers) {\n",
              "          for (const buffer of message.buffers) {\n",
              "            buffers.push(buffer);\n",
              "            downloaded += buffer.byteLength;\n",
              "            progress.value = downloaded;\n",
              "          }\n",
              "        }\n",
              "      }\n",
              "      const blob = new Blob(buffers, {type: 'application/binary'});\n",
              "      const a = document.createElement('a');\n",
              "      a.href = window.URL.createObjectURL(blob);\n",
              "      a.download = filename;\n",
              "      div.appendChild(a);\n",
              "      a.click();\n",
              "      div.remove();\n",
              "    }\n",
              "  "
            ]
          },
          "metadata": {}
        },
        {
          "output_type": "display_data",
          "data": {
            "text/plain": [
              "<IPython.core.display.Javascript object>"
            ],
            "application/javascript": [
              "download(\"download_8363a495-016a-42b0-8013-01ecfe97cf63\", \"models.zip\", 1932210)"
            ]
          },
          "metadata": {}
        }
      ]
    }
  ]
}